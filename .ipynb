{
 "cells": [
  {
   "cell_type": "code",
   "execution_count": 5,
   "metadata": {},
   "outputs": [
    {
     "ename": "KeyError",
     "evalue": "'d'",
     "output_type": "error",
     "traceback": [
      "\u001b[1;31m---------------------------------------------------------------------------\u001b[0m",
      "\u001b[1;31mKeyError\u001b[0m                                  Traceback (most recent call last)",
      "\u001b[1;32md:\\Projects\\DSA\\.ipynb Cell 1\u001b[0m line \u001b[0;36m5\n\u001b[0;32m     <a href='vscode-notebook-cell:/d%3A/Projects/DSA/.ipynb#W0sZmlsZQ%3D%3D?line=48'>49</a>\u001b[0m   dataDict \u001b[39m=\u001b[39m json\u001b[39m.\u001b[39mloads(formattedData)\n\u001b[0;32m     <a href='vscode-notebook-cell:/d%3A/Projects/DSA/.ipynb#W0sZmlsZQ%3D%3D?line=50'>51</a>\u001b[0m   \u001b[39m# Save the most important data in our list\u001b[39;00m\n\u001b[1;32m---> <a href='vscode-notebook-cell:/d%3A/Projects/DSA/.ipynb#W0sZmlsZQ%3D%3D?line=51'>52</a>\u001b[0m   responses\u001b[39m.\u001b[39mappend(dataDict[\u001b[39m'\u001b[39;49m\u001b[39md\u001b[39;49m\u001b[39m'\u001b[39;49m])\n\u001b[0;32m     <a href='vscode-notebook-cell:/d%3A/Projects/DSA/.ipynb#W0sZmlsZQ%3D%3D?line=53'>54</a>\u001b[0m \u001b[39m# Print out the results\u001b[39;00m\n\u001b[0;32m     <a href='vscode-notebook-cell:/d%3A/Projects/DSA/.ipynb#W0sZmlsZQ%3D%3D?line=54'>55</a>\u001b[0m \u001b[39mfor\u001b[39;00m x \u001b[39min\u001b[39;00m \u001b[39mrange\u001b[39m(\u001b[39mlen\u001b[39m(searchTerms)):\n",
      "\u001b[1;31mKeyError\u001b[0m: 'd'"
     ]
    }
   ],
   "source": [
    "#\n",
    "# \n",
    "# This is a small demonstration of how to use an api\n",
    "# Here I used the IMDb Api from Rapid Api this is where you get an api key\n",
    "# https://rapidapi.com/apidojo/api/imdb8/\n",
    "# This program fetches movies associated with a search term and prints their \n",
    "# movie title and cover image url\n",
    "#\n",
    "# 1/27/2022 - Drayton Lavender\n",
    "# Feel free to use this code however you like!\n",
    "#\n",
    "\n",
    "import requests\n",
    "import json\n",
    "\n",
    "# Base url that connects us to the server where the movie info is located\n",
    "url = \"https://imdb8.p.rapidapi.com/auto-complete\"\n",
    "\n",
    "# These headers are used to authenticate your connection\n",
    "headers = {\n",
    "    'x-rapidapi-host': \"imdb8.p.rapidapi.com\",\n",
    "    'x-rapidapi-key': \"\"\n",
    "    }\n",
    "\n",
    "# These are my keywords I'd like to search for\n",
    "searchTerms = [\"spider\", \"ironman\", \"avengers\", \"star wars\"]\n",
    "\n",
    "# I store all the responses in a list\n",
    "responses = []\n",
    "\n",
    "# Here I loop through the search terms\n",
    "for x in range(len(searchTerms)):\n",
    "  # Update the searchterm in the url parameters\n",
    "  querystring = {\"q\": searchTerms[x]}\n",
    "\n",
    "  # Query the API and save the result\n",
    "  response = requests.request(\"GET\", url, headers=headers, params=querystring)\n",
    "\n",
    "  # Turn the json text from the response into a useful json python object\n",
    "  data = json.loads(response.text)\n",
    "\n",
    "  # Format the json to be more readable this is mostly for viewing raw\n",
    "  # response data when debugging\n",
    "  formattedData = json.dumps(data, indent=4)\n",
    "  # Uncomment the following line to see the raw response from the api\n",
    "  # print(formattedData)\n",
    "\n",
    "  # Load the json data into a dictionary\n",
    "  dataDict = json.loads(formattedData)\n",
    "\n",
    "  # Save the most important data in our list\n",
    "  responses.append(dataDict['d'])\n",
    "\n",
    "# Print out the results\n",
    "for x in range(len(searchTerms)):\n",
    "  print(\"\\n\\nSearch Term: \\\"\" + str(searchTerms[x]) + \"\\\"\")\n",
    "  for movie in responses[x]:\n",
    "    # I used try/except here to keep going just incase a movie doesn't have\n",
    "    # the data I'm asking for. \n",
    "    print(movie)\n"
   ]
  }
 ],
 "metadata": {
  "kernelspec": {
   "display_name": "Python 3",
   "language": "python",
   "name": "python3"
  },
  "language_info": {
   "codemirror_mode": {
    "name": "ipython",
    "version": 3
   },
   "file_extension": ".py",
   "mimetype": "text/x-python",
   "name": "python",
   "nbconvert_exporter": "python",
   "pygments_lexer": "ipython3",
   "version": "3.11.4"
  }
 },
 "nbformat": 4,
 "nbformat_minor": 2
}
